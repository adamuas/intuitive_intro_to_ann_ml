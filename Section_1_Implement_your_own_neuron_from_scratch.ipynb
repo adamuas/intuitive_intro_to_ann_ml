{
  "nbformat": 4,
  "nbformat_minor": 0,
  "metadata": {
    "colab": {
      "name": "Section 1 - Implement your own neuron from scratch.ipynb",
      "version": "0.3.2",
      "provenance": [],
      "collapsed_sections": [],
      "include_colab_link": true
    },
    "language_info": {
      "codemirror_mode": {
        "name": "ipython",
        "version": 3
      },
      "file_extension": ".py",
      "mimetype": "text/x-python",
      "name": "python",
      "nbconvert_exporter": "python",
      "pygments_lexer": "ipython3",
      "version": "3.6.5"
    },
    "kernelspec": {
      "display_name": "Python 3",
      "language": "python",
      "name": "python3"
    }
  },
  "cells": [
    {
      "cell_type": "markdown",
      "metadata": {
        "id": "view-in-github",
        "colab_type": "text"
      },
      "source": [
        "<a href=\"https://colab.research.google.com/github/adamuas/intuitive_intro_to_ann_ml/blob/master/Section_1_Implement_your_own_neuron_from_scratch.ipynb\" target=\"_parent\"><img src=\"https://colab.research.google.com/assets/colab-badge.svg\" alt=\"Open In Colab\"/></a>"
      ]
    },
    {
      "cell_type": "markdown",
      "metadata": {
        "id": "xVyiIAKfpnTL",
        "colab_type": "text"
      },
      "source": [
        "# An Intuitive Introduction to Artificial Neural Networks and Machine Learning\n"
      ]
    },
    {
      "cell_type": "markdown",
      "metadata": {
        "id": "3u3bnk7nSZVz",
        "colab_type": "text"
      },
      "source": [
        "This notebook walks you through the implementation of a neuron, its activation function (i.e. a function to model the excitation stage of the neuron) and its output function (i.e. a function to model the firing stage of the neuron).\n",
        "\n"
      ]
    },
    {
      "cell_type": "code",
      "metadata": {
        "id": "kd0QMX3gpnTN",
        "colab_type": "code",
        "colab": {}
      },
      "source": [
        "# First off lets start by importing some useful python packages\n",
        "import pandas as pd\n",
        "import numpy as np\n",
        "from sklearn.datasets import load_digits, load_diabetes\n",
        "from matplotlib import pylab as plt\n",
        "\n",
        "\n",
        "# install tensorflow 2\n",
        "import tensorflow as tf\n",
        "\n",
        "%matplotlib inline"
      ],
      "execution_count": 0,
      "outputs": []
    },
    {
      "cell_type": "code",
      "metadata": {
        "id": "eDgHFegfyuCu",
        "colab_type": "code",
        "colab": {
          "base_uri": "https://localhost:8080/",
          "height": 34
        },
        "outputId": "d6a49455-05e1-456b-e352-fc9b545d80b9"
      },
      "source": [
        "print('tensorflow version:{}'.format(tf.__version__))"
      ],
      "execution_count": 2,
      "outputs": [
        {
          "output_type": "stream",
          "text": [
            "tensorflow version:2.0.0-dev20190511\n"
          ],
          "name": "stdout"
        }
      ]
    },
    {
      "cell_type": "markdown",
      "metadata": {
        "id": "y_-cna7oSMj-",
        "colab_type": "text"
      },
      "source": [
        "## Section 1 - Implementing your own neuron"
      ]
    },
    {
      "cell_type": "markdown",
      "metadata": {
        "id": "6LVwIUVOkaIG",
        "colab_type": "text"
      },
      "source": [
        "### Section 1.1 - The Neuron"
      ]
    },
    {
      "cell_type": "code",
      "metadata": {
        "id": "luFU07rZSU4G",
        "colab_type": "code",
        "colab": {}
      },
      "source": [
        "class Neuron:\n",
        "    \"\"\"\n",
        "    A model of our artificla neuron.\n",
        "    \"\"\"\n",
        "    \n",
        "    def __init__(self, n_inputs, bias=1.0, activation_fn=None, output_fn=None):\n",
        "        \"\"\"\n",
        "        Constructor for our neuron\n",
        "        \n",
        "        params:\n",
        "          n_inputs - number of input connections/weights\n",
        "          bias - bias of the neuron\n",
        "          activation_fn - activation function that models excitation\n",
        "        \n",
        "        \"\"\"\n",
        "        # randomly initialize the weights (1 weight for each input)\n",
        "        # Weights are supposed to represent the connection strength of the dendrites of our neuron.\n",
        "        self.weights = np.random.randn(n_inputs)\n",
        "        # bias of the neuron \n",
        "        self.bias = bias\n",
        "        # number of inputs the neuron recevies\n",
        "        self.n_inputs = n_inputs\n",
        "        # activation function of the neuron\n",
        "        self.activation_fn = activation_fn \n",
        "        # output function of the neuron\n",
        "        self.output_fn = output_fn \n",
        "    \n",
        "    def stimulate(self, inputs, verbose=False):\n",
        "        \"\"\"\n",
        "        Propagates the inputs through the weights and returns the output of the neuron\n",
        "        \n",
        "        params:\n",
        "        inputs - inputs signals for the neuron\n",
        "        \n",
        "        returns:\n",
        "        output value - output signal of the neuron\n",
        "        \"\"\"\n",
        "        \n",
        "        \n",
        "        # initialize our output value\n",
        "        output_value= 0\n",
        "        action_potential = 0\n",
        "        \n",
        "        # pass through activation function\n",
        "        if self.activation_fn:\n",
        "              action_potential  = self.activation_fn(weights=self.weights, \n",
        "                                                     inputs=inputs)\n",
        "        # add neuron's bias\n",
        "        action_potential = action_potential + self.bias\n",
        "            \n",
        "        if verbose:\n",
        "            print('Action Potential: {}'.format(action_potential))\n",
        "        \n",
        "        if self.output_fn:\n",
        "              output_value = self.output_fn(action_potential=action_potential)\n",
        "           \n",
        "        if verbose:\n",
        "            print('Output Value: {}'.format(output_value))\n",
        "        \n",
        "        return output_value\n",
        "      \n",
        "    def __repr__(self):\n",
        "        \"\"\"\n",
        "        Returns a string representation of our Artificial Neuron\n",
        "        \n",
        "        returns:\n",
        "          String\n",
        "        \"\"\"\n",
        "        return \"<neuron>\\nweights: {}\\nbias: {}\\nactivation_fn: {}\\noutput_fn:{}\\n</neuron>\".format(self.weights,\n",
        "                                                                                                    self.bias,\n",
        "                                                                                                    self.activation_fn,\n",
        "                                                                                                    self.output_fn)\n",
        "            "
      ],
      "execution_count": 0,
      "outputs": []
    },
    {
      "cell_type": "markdown",
      "metadata": {
        "id": "V6YbeGF0Rti_",
        "colab_type": "text"
      },
      "source": [
        "### Section 1.2 - Activation Function (Model's activation)\n",
        "\n"
      ]
    },
    {
      "cell_type": "code",
      "metadata": {
        "id": "Y8AS3rkTpnTf",
        "colab_type": "code",
        "colab": {}
      },
      "source": [
        "def weighted_sum(weights,inputs):\n",
        "  \"\"\" \n",
        "  Weighted sum activation function\n",
        "  \n",
        "  This is supposed to model the action excitation stage of the artificial neuron.\n",
        "  It models how excited the neuron should be based on the inputs (stimulus)\n",
        "  \n",
        "  parameters:\n",
        "    W - Weights (Weights of the neuron)\n",
        "    I - inputs (features used to make the decision)\n",
        "    \n",
        "  returns:\n",
        "    action_potentatial - the degree of activation for that particular neuron\n",
        "  \n",
        "  \"\"\"\n",
        "  \n",
        "  action_potential =  0\n",
        "        \n",
        "  for input_i, weight_i in zip(inputs, weights):\n",
        "            action_potential += input_i * weight_i\n",
        "      \n",
        "  return action_potential\n"
      ],
      "execution_count": 0,
      "outputs": []
    },
    {
      "cell_type": "markdown",
      "metadata": {
        "id": "gbixpHPGYyQx",
        "colab_type": "text"
      },
      "source": [
        "**Things to think about:**\n",
        "\n",
        "\n",
        "*   Why use weighted sum?\n",
        "\n"
      ]
    },
    {
      "cell_type": "markdown",
      "metadata": {
        "id": "4lawmxX2SEfc",
        "colab_type": "text"
      },
      "source": [
        "### Section 1.2 - Output Function  (Model's firing stage)"
      ]
    },
    {
      "cell_type": "code",
      "metadata": {
        "id": "chzMQ4N7SDtl",
        "colab_type": "code",
        "colab": {}
      },
      "source": [
        "def sigmoid(action_potential):\n",
        "  \"\"\" \n",
        "  Sigmoid output function\n",
        "  \n",
        "  This is supposed to model the firing stage of the neuron.\n",
        "  It models how much the neuron should output based on the action potential \n",
        "  generated from the excitation stage.\n",
        "  \n",
        "  return:\n",
        "    returns the output value of the neuron\n",
        "  \n",
        "  \"\"\"\n",
        "  return 1/(1 + np.exp(-1 * (action_potential)))"
      ],
      "execution_count": 0,
      "outputs": []
    },
    {
      "cell_type": "markdown",
      "metadata": {
        "id": "MdcUpLkKYoRa",
        "colab_type": "text"
      },
      "source": [
        "**Things to think about**:\n",
        "\n",
        "\n",
        "*   Why a sigmoid activation function?\n",
        "\n"
      ]
    },
    {
      "cell_type": "markdown",
      "metadata": {
        "id": "YToMg4-O3gk-",
        "colab_type": "text"
      },
      "source": [
        "#### Behaviour of Sigmoids"
      ]
    },
    {
      "cell_type": "code",
      "metadata": {
        "id": "bUg3WSCH3qt8",
        "colab_type": "code",
        "colab": {
          "base_uri": "https://localhost:8080/",
          "height": 204
        },
        "outputId": "969200d4-58fa-434c-bb22-63416514b822"
      },
      "source": [
        "X = range(15)\n",
        "y = [sigmoid(x) for x in X]\n",
        "\n",
        "df = pd.DataFrame.from_dict({'X': X, 'y':y})\n",
        "df.head()"
      ],
      "execution_count": 23,
      "outputs": [
        {
          "output_type": "execute_result",
          "data": {
            "text/html": [
              "<div>\n",
              "<style scoped>\n",
              "    .dataframe tbody tr th:only-of-type {\n",
              "        vertical-align: middle;\n",
              "    }\n",
              "\n",
              "    .dataframe tbody tr th {\n",
              "        vertical-align: top;\n",
              "    }\n",
              "\n",
              "    .dataframe thead th {\n",
              "        text-align: right;\n",
              "    }\n",
              "</style>\n",
              "<table border=\"1\" class=\"dataframe\">\n",
              "  <thead>\n",
              "    <tr style=\"text-align: right;\">\n",
              "      <th></th>\n",
              "      <th>X</th>\n",
              "      <th>y</th>\n",
              "    </tr>\n",
              "  </thead>\n",
              "  <tbody>\n",
              "    <tr>\n",
              "      <th>0</th>\n",
              "      <td>0</td>\n",
              "      <td>0.500000</td>\n",
              "    </tr>\n",
              "    <tr>\n",
              "      <th>1</th>\n",
              "      <td>1</td>\n",
              "      <td>0.731059</td>\n",
              "    </tr>\n",
              "    <tr>\n",
              "      <th>2</th>\n",
              "      <td>2</td>\n",
              "      <td>0.880797</td>\n",
              "    </tr>\n",
              "    <tr>\n",
              "      <th>3</th>\n",
              "      <td>3</td>\n",
              "      <td>0.952574</td>\n",
              "    </tr>\n",
              "    <tr>\n",
              "      <th>4</th>\n",
              "      <td>4</td>\n",
              "      <td>0.982014</td>\n",
              "    </tr>\n",
              "  </tbody>\n",
              "</table>\n",
              "</div>"
            ],
            "text/plain": [
              "   X         y\n",
              "0  0  0.500000\n",
              "1  1  0.731059\n",
              "2  2  0.880797\n",
              "3  3  0.952574\n",
              "4  4  0.982014"
            ]
          },
          "metadata": {
            "tags": []
          },
          "execution_count": 23
        }
      ]
    },
    {
      "cell_type": "code",
      "metadata": {
        "id": "KeZIdA-74XT8",
        "colab_type": "code",
        "colab": {
          "base_uri": "https://localhost:8080/",
          "height": 312
        },
        "outputId": "f64eb07e-be98-4b3d-b6e9-b35ac90296a4"
      },
      "source": [
        "df.plot(x='X',y='y')\n",
        "plt.title('Behaviour Of Sigmoids')"
      ],
      "execution_count": 25,
      "outputs": [
        {
          "output_type": "execute_result",
          "data": {
            "text/plain": [
              "Text(0.5, 1.0, 'Behaviour Of Sigmoids')"
            ]
          },
          "metadata": {
            "tags": []
          },
          "execution_count": 25
        },
        {
          "output_type": "display_data",
          "data": {
            "image/png": "[encoded data removed]",
            "text/plain": [
              "<Figure size 432x288 with 1 Axes>"
            ]
          },
          "metadata": {
            "tags": []
          }
        }
      ]
    },
    {
      "cell_type": "markdown",
      "metadata": {
        "id": "NEbC4R735ZDv",
        "colab_type": "text"
      },
      "source": [
        "The Sigmoid output function allows us to squash the output values of neuron's while preserving their magnitudes. So with greater output values we get closer and closer to 1.0,and with smaller and smaller output values we get closer to 0.0"
      ]
    },
    {
      "cell_type": "markdown",
      "metadata": {
        "id": "z1__ZRm_Zc7g",
        "colab_type": "text"
      },
      "source": [
        "## (5) Stimulate Our Neuron \n",
        "\n",
        "We will be stimulating our neuron with the Iris dataset. It is a simple dataset that has measures of the iris plant such as the petal length, and width along with the corresponding species of the iris plant. It is a gentle introduction to simple datasets."
      ]
    },
    {
      "cell_type": "markdown",
      "metadata": {
        "id": "qCDXYAuZHp0n",
        "colab_type": "text"
      },
      "source": [
        "### 5.1 - Load the Iris Dataset from Sklearn"
      ]
    },
    {
      "cell_type": "code",
      "metadata": {
        "id": "1k4zfaqTZZUQ",
        "colab_type": "code",
        "outputId": "32c95051-3f2e-467e-8f3f-1a190280cd7b",
        "colab": {
          "base_uri": "https://localhost:8080/",
          "height": 1088
        }
      },
      "source": [
        "# lets import the iris dataset.\n",
        "from sklearn.datasets import load_iris\n",
        "\n",
        "# load the iris dataset\n",
        "data = load_iris()\n",
        "\n",
        "print(data['DESCR'])"
      ],
      "execution_count": 6,
      "outputs": [
        {
          "output_type": "stream",
          "text": [
            ".. _iris_dataset:\n",
            "\n",
            "Iris plants dataset\n",
            "--------------------\n",
            "\n",
            "**Data Set Characteristics:**\n",
            "\n",
            "    :Number of Instances: 150 (50 in each of three classes)\n",
            "    :Number of Attributes: 4 numeric, predictive attributes and the class\n",
            "    :Attribute Information:\n",
            "        - sepal length in cm\n",
            "        - sepal width in cm\n",
            "        - petal length in cm\n",
            "        - petal width in cm\n",
            "        - class:\n",
            "                - Iris-Setosa\n",
            "                - Iris-Versicolour\n",
            "                - Iris-Virginica\n",
            "                \n",
            "    :Summary Statistics:\n",
            "\n",
            "    ============== ==== ==== ======= ===== ====================\n",
            "                    Min  Max   Mean    SD   Class Correlation\n",
            "    ============== ==== ==== ======= ===== ====================\n",
            "    sepal length:   4.3  7.9   5.84   0.83    0.7826\n",
            "    sepal width:    2.0  4.4   3.05   0.43   -0.4194\n",
            "    petal length:   1.0  6.9   3.76   1.76    0.9490  (high!)\n",
            "    petal width:    0.1  2.5   1.20   0.76    0.9565  (high!)\n",
            "    ============== ==== ==== ======= ===== ====================\n",
            "\n",
            "    :Missing Attribute Values: None\n",
            "    :Class Distribution: 33.3% for each of 3 classes.\n",
            "    :Creator: R.A. Fisher\n",
            "    :Donor: Michael Marshall (MARSHALL%PLU@io.arc.nasa.gov)\n",
            "    :Date: July, 1988\n",
            "\n",
            "The famous Iris database, first used by Sir R.A. Fisher. The dataset is taken\n",
            "from Fisher's paper. Note that it's the same as in R, but not as in the UCI\n",
            "Machine Learning Repository, which has two wrong data points.\n",
            "\n",
            "This is perhaps the best known database to be found in the\n",
            "pattern recognition literature.  Fisher's paper is a classic in the field and\n",
            "is referenced frequently to this day.  (See Duda & Hart, for example.)  The\n",
            "data set contains 3 classes of 50 instances each, where each class refers to a\n",
            "type of iris plant.  One class is linearly separable from the other 2; the\n",
            "latter are NOT linearly separable from each other.\n",
            "\n",
            ".. topic:: References\n",
            "\n",
            "   - Fisher, R.A. \"The use of multiple measurements in taxonomic problems\"\n",
            "     Annual Eugenics, 7, Part II, 179-188 (1936); also in \"Contributions to\n",
            "     Mathematical Statistics\" (John Wiley, NY, 1950).\n",
            "   - Duda, R.O., & Hart, P.E. (1973) Pattern Classification and Scene Analysis.\n",
            "     (Q327.D83) John Wiley & Sons.  ISBN 0-471-22361-1.  See page 218.\n",
            "   - Dasarathy, B.V. (1980) \"Nosing Around the Neighborhood: A New System\n",
            "     Structure and Classification Rule for Recognition in Partially Exposed\n",
            "     Environments\".  IEEE Transactions on Pattern Analysis and Machine\n",
            "     Intelligence, Vol. PAMI-2, No. 1, 67-71.\n",
            "   - Gates, G.W. (1972) \"The Reduced Nearest Neighbor Rule\".  IEEE Transactions\n",
            "     on Information Theory, May 1972, 431-433.\n",
            "   - See also: 1988 MLC Proceedings, 54-64.  Cheeseman et al\"s AUTOCLASS II\n",
            "     conceptual clustering system finds 3 classes in the data.\n",
            "   - Many, many more ...\n"
          ],
          "name": "stdout"
        }
      ]
    },
    {
      "cell_type": "markdown",
      "metadata": {
        "id": "97Ci1KxJHy3b",
        "colab_type": "text"
      },
      "source": [
        "### 5.2 - Create our Neuron\n",
        "\n",
        "Here we will specify the number of input features as the number of attributes we have available in the Iris dataset because we will like to use those attributes to make predictions about the Iris plant."
      ]
    },
    {
      "cell_type": "code",
      "metadata": {
        "id": "0fsLh5kyH8yP",
        "colab_type": "code",
        "outputId": "3d11192c-6a40-4f8b-a141-85261ef59390",
        "colab": {
          "base_uri": "https://localhost:8080/",
          "height": 119
        }
      },
      "source": [
        "# specify the number of inputs features we want the neruon to consider \n",
        "IRIS_FEATURES = 4\n",
        "neuron = Neuron(n_inputs=IRIS_FEATURES, activation_fn=weighted_sum, output_fn=sigmoid)\n",
        "print(neuron)"
      ],
      "execution_count": 32,
      "outputs": [
        {
          "output_type": "stream",
          "text": [
            "<neuron>\n",
            "weights: [ 0.38850322  1.78214967 -0.17622473  0.45422982]\n",
            "bias: 1.0\n",
            "activation_fn: <function weighted_sum at 0x7fcfdce1e9d8>\n",
            "output_fn:<function sigmoid at 0x7fcfd9ffb158>\n",
            "</neuron>\n"
          ],
          "name": "stdout"
        }
      ]
    },
    {
      "cell_type": "markdown",
      "metadata": {
        "id": "_09amIVcJaQ9",
        "colab_type": "text"
      },
      "source": [
        "### 5.3 - Stimulate the neuron with the iris Dataset\n",
        "Here we will use a few samples of the iris dataset to stimulate the neuron."
      ]
    },
    {
      "cell_type": "code",
      "metadata": {
        "id": "gQfz-YI5It73",
        "colab_type": "code",
        "outputId": "09036945-73e2-4a97-9243-287d7536c0fc",
        "colab": {
          "base_uri": "https://localhost:8080/",
          "height": 187
        }
      },
      "source": [
        "inputs = data['data']\n",
        "targets = data['target']\n",
        "\n",
        "num_samples = 5\n",
        "\n",
        "for i in range(num_samples):\n",
        "  input_i = inputs[i]\n",
        "  target_i = targets[i]\n",
        "  print('input: {}'.format(input_i))\n",
        "  output_i = neuron.stimulate(input_i)\n",
        "  print('output: {}'.format(output_i))"
      ],
      "execution_count": 33,
      "outputs": [
        {
          "output_type": "stream",
          "text": [
            "input: [5.1 3.5 1.4 0.2]\n",
            "output: 0.9998841410983309\n",
            "input: [4.9 3.  1.4 0.2]\n",
            "output: 0.9996948024762491\n",
            "input: [4.7 3.2 1.3 0.2]\n",
            "output: 0.999773059991801\n",
            "input: [4.6 3.1 1.5 0.2]\n",
            "output: 0.9997079483096082\n",
            "input: [5.  3.6 1.4 0.2]\n",
            "output: 0.999899211575451\n"
          ],
          "name": "stdout"
        }
      ]
    },
    {
      "cell_type": "markdown",
      "metadata": {
        "id": "A2cVrSl8K2m8",
        "colab_type": "text"
      },
      "source": [
        "### 5.4 0 Sanity Check \n",
        "\n",
        "Here we are going to make sure our little neuron is behaving properly. So lets make some assertions about the output its producting.\n"
      ]
    },
    {
      "cell_type": "markdown",
      "metadata": {
        "id": "r-UXkj7B2Tlp",
        "colab_type": "text"
      },
      "source": [
        "***(1) Check if the weights are within the sigmoids output range of [0..1]*** \n"
      ]
    },
    {
      "cell_type": "code",
      "metadata": {
        "id": "05M-n--Q2evd",
        "colab_type": "code",
        "colab": {}
      },
      "source": [
        "def test_output_range(neuron, data):\n",
        "  \"\"\" \n",
        "  Tests if the neuron is outputing within the range of the assigned output for sigmoids\n",
        "  params:\n",
        "    neruon - the neruon instance\n",
        "    data - dictionary that follows sklearns dataset format (see sklearn)\n",
        "   \n",
        "  returns:\n",
        "    True - if test passed\n",
        "    False - otherwise\n",
        "    \n",
        "  \"\"\"\n",
        "  \n",
        "  inputs = data['data']\n",
        "  targets = data['target']\n",
        "\n",
        "  num_samples = len(targets)\n",
        "\n",
        "  for i in range(num_samples):\n",
        "    input_i = inputs[i]\n",
        "    target_i = targets[i]\n",
        "    output_i = neuron.stimulate(input_i)\n",
        "    assert (output_i >= 0.0) and (output_i <=1.0)\n",
        "  \n",
        "  return True\n",
        "  \n",
        "  "
      ],
      "execution_count": 0,
      "outputs": []
    },
    {
      "cell_type": "code",
      "metadata": {
        "id": "kxrVM4lp3bjM",
        "colab_type": "code",
        "colab": {
          "base_uri": "https://localhost:8080/",
          "height": 34
        },
        "outputId": "f4e81bd6-3b44-4003-8fb0-752b3f17570f"
      },
      "source": [
        "test_output_range(neuron, data)"
      ],
      "execution_count": 35,
      "outputs": [
        {
          "output_type": "execute_result",
          "data": {
            "text/plain": [
              "True"
            ]
          },
          "metadata": {
            "tags": []
          },
          "execution_count": 35
        }
      ]
    }
  ]
}